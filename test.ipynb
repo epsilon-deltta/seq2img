{
 "cells": [
  {
   "cell_type": "code",
   "execution_count": 1,
   "id": "5f74ed98-c86d-4d0d-a5e0-6a385c6f2f89",
   "metadata": {},
   "outputs": [],
   "source": [
    "f = open('./data/data.txt','r')"
   ]
  },
  {
   "cell_type": "code",
   "execution_count": 2,
   "id": "254486de-417b-4a42-ae18-df822481e4a6",
   "metadata": {},
   "outputs": [],
   "source": [
    "s = f.readlines()"
   ]
  },
  {
   "cell_type": "code",
   "execution_count": 3,
   "id": "40177611-3997-4d64-9f62-981a1ecf657d",
   "metadata": {},
   "outputs": [
    {
     "data": {
      "text/plain": [
       "14720"
      ]
     },
     "execution_count": 3,
     "metadata": {},
     "output_type": "execute_result"
    }
   ],
   "source": [
    "len(s)"
   ]
  }
 ],
 "metadata": {
  "kernelspec": {
   "display_name": "torch",
   "language": "python",
   "name": "torch"
  },
  "language_info": {
   "codemirror_mode": {
    "name": "ipython",
    "version": 3
   },
   "file_extension": ".py",
   "mimetype": "text/x-python",
   "name": "python",
   "nbconvert_exporter": "python",
   "pygments_lexer": "ipython3",
   "version": "3.6.13"
  }
 },
 "nbformat": 4,
 "nbformat_minor": 5
}
